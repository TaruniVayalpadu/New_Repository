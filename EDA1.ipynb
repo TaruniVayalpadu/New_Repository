{
 "cells": [
  {
   "cell_type": "code",
   "execution_count": 2,
   "id": "e4ff4378-b332-4cc4-bda6-1e206552e94e",
   "metadata": {},
   "outputs": [
    {
     "ename": "SyntaxError",
     "evalue": "unmatched ')' (3551580225.py, line 2)",
     "output_type": "error",
     "traceback": [
      "\u001b[1;36m  Cell \u001b[1;32mIn[2], line 2\u001b[1;36m\u001b[0m\n\u001b[1;33m    1) Pandas      : Dataframe or data applications\u001b[0m\n\u001b[1;37m     ^\u001b[0m\n\u001b[1;31mSyntaxError\u001b[0m\u001b[1;31m:\u001b[0m unmatched ')'\n"
     ]
    }
   ],
   "source": [
    "#EDA\n",
    "1) Pandas      : Dataframe or data applications\n",
    "2) Numpy       : Numerical pyhton for math operations\n",
    "3) Matplotlib  : For plot graphs\n",
    "4) Seaborn     : For plot graphs\n",
    "5) Bokhe       : For plots\n",
    "6) Plotly      : For plots\n",
    "\n",
    "#Machine Learning\n",
    "7) Scikit learn(Sklearn)  : ML Models\n",
    "8) Stats                  : Statistical Models\n",
    "\n",
    "#Data retrival from SQL scrapping\n",
    "9) Sqlite          : connect with database\n",
    "10) Beautiful soap : scrap the data from website\n",
    "11) Websocket      : scrap\n",
    "\n",
    "#Deep Learning/Computer vision\n",
    "12) TensorFlow      : Google\n",
    "13) Keras           : DL models\n",
    "14) OpenCV          : Image operations\n",
    "15) Pillow (PIL)    : Image operations\n",
    "16) Pytorch         : Facebook\n",
    "17) Pretrained Model\n",
    "    VGG16\n",
    "    Mobilenet\n",
    "    RESNET\n",
    "    RCNN\n",
    "    MASKRCNN\n",
    "    FASTERCNN\n",
    "    YOLO\n",
    "#Natural Language Process\n",
    "18) NLTK            :Natural Language Process\n",
    "19) Scipy\n",
    "20) Word2vec (how words will convert into vector) :\n",
    "21) GloVE      \n",
    "22) Wordcloud\n",
    "\n",
    "#Hugging face\n",
    "23) Transformers     : BERT\n",
    "\n",
    "#GenAI Models\n",
    "24) OpenAI+Microsoft  : GPT Models \n",
    "25) Google            : Gemini\n",
    "26) Amazon            : Q\n",
    "27) Meta Facebook     : MetaAI\n",
    "28) Apple     \n",
    "\n",
    "LLAMA\n",
    "GEMMA\n",
    "Dalle-E\n",
    "T5\n",
    "\n",
    "ALL ARE HAVING DIFFERENT PACKAGES\n",
    "\n",
    "#Langchain\n",
    "29) Langchain Framework\n",
    "\n",
    "#Deployments\n",
    "30) Flask\n",
    "31) Streamlit\n",
    "32) Django\n",
    "\n",
    "#MLops\n",
    "33) MLflow\n",
    "34) Kuberflow\n",
    "35) Azure AI services : Azure packages\n",
    "36) GCP : GCP packages"
   ]
  },
  {
   "cell_type": "markdown",
   "id": "b23c891b-56ba-45f9-b625-ae71fe2fe53d",
   "metadata": {},
   "source": [
    "**Step-1**\n",
    " \n",
    "**Create a Dataframe**\n",
    "\n",
    "- We will create a dataframe using list\n",
    "\n",
    "- We will create a dataframe using dictionary"
   ]
  },
  {
   "cell_type": "code",
   "execution_count": null,
   "id": "c66af95c-ad20-4c83-ad49-05dab87cdc81",
   "metadata": {},
   "outputs": [],
   "source": [
    "import pandas as pd"
   ]
  },
  {
   "cell_type": "code",
   "execution_count": null,
   "id": "1c3b94a6-36cd-478b-8ff6-8602d16a957b",
   "metadata": {},
   "outputs": [],
   "source": [
    "d1=pd.DataFrame()\n",
    "d1"
   ]
  },
  {
   "cell_type": "code",
   "execution_count": null,
   "id": "51177518-6800-4c93-9f37-76a49386c979",
   "metadata": {},
   "outputs": [],
   "source": [
    "type(d1)"
   ]
  },
  {
   "cell_type": "markdown",
   "id": "313859df-8aed-432b-9b91-43a3de525a86",
   "metadata": {},
   "source": [
    "**Step-2**\n",
    "\n",
    "**Provide the data**\n"
   ]
  },
  {
   "cell_type": "code",
   "execution_count": null,
   "id": "032f78db-bb61-4768-80c0-b724b786a8ae",
   "metadata": {},
   "outputs": [],
   "source": [
    "names=['tarun','surendar','mohith']\n",
    "pd.DataFrame(names)"
   ]
  },
  {
   "cell_type": "code",
   "execution_count": null,
   "id": "338a6caf-7c69-40d4-9441-863b9c4b0a45",
   "metadata": {},
   "outputs": [],
   "source": [
    "names=['tarun','surendar','mohith']\n",
    "age=[20,21,22]\n",
    "data=zip(names,age)\n",
    "pd.DataFrame(data)"
   ]
  },
  {
   "cell_type": "code",
   "execution_count": null,
   "id": "4b85236f-6060-42a4-8ef8-74dc9d427da5",
   "metadata": {},
   "outputs": [],
   "source": [
    "names=['tarun','surendar','mohith']\n",
    "age=[20,21,22]\n",
    "city=['Hyd','Blr','Nlr']\n",
    "data=zip(names,age,city)\n",
    "pd.DataFrame(data)"
   ]
  },
  {
   "cell_type": "code",
   "execution_count": null,
   "id": "a097bd73-cbe0-45f3-a6fb-57d0cead919e",
   "metadata": {},
   "outputs": [],
   "source": [
    "names=['tarun', 'surendar', 'mohith' ]\n",
    "pd. DataFrame(names,\n",
    "    columns=['Names' ])"
   ]
  },
  {
   "cell_type": "code",
   "execution_count": null,
   "id": "3153496c-9960-4a6f-be33-76655a591236",
   "metadata": {},
   "outputs": [],
   "source": [
    "names=['tarun','surendar','mohith']\n",
    "age=[20,21,22]\n",
    "pd. DataFrame(zip(names,age),\n",
    "    columns=['Names','Age'])"
   ]
  },
  {
   "cell_type": "code",
   "execution_count": null,
   "id": "38ab096d-f8d1-4de2-bc66-40d512013dd9",
   "metadata": {},
   "outputs": [],
   "source": [
    "names=['tarun','surendar','mohith']\n",
    "age=[20,21,22]\n",
    "pd. DataFrame(zip(names,age),\n",
    "    columns=['Names','Age'])"
   ]
  },
  {
   "cell_type": "code",
   "execution_count": null,
   "id": "774a3e68-3ae7-4350-be1e-0bd62cb886df",
   "metadata": {},
   "outputs": [],
   "source": [
    "names=['tarun','surendar','mohith']\n",
    "age=[20,21,22]\n",
    "city=['Hyd','Blr','Nlr']\n",
    "pd. DataFrame(zip(names,age,city),\n",
    "    columns=['Names','Age','City'])"
   ]
  },
  {
   "cell_type": "code",
   "execution_count": null,
   "id": "4814c305-28b0-4e76-bc09-16dc27e48f62",
   "metadata": {},
   "outputs": [],
   "source": [
    "names=['tarun','surendar','mohith']\n",
    "age=[20,21,22]\n",
    "city=['Hyd','Blr','Nlr']\n",
    "pd. DataFrame(zip(names,age,city),\n",
    "    columns=['Names','Age','City'],\n",
    "    index=[1,2,3])"
   ]
  },
  {
   "cell_type": "code",
   "execution_count": null,
   "id": "fc195e3c-d945-4ff8-b502-a4f62e58cb08",
   "metadata": {},
   "outputs": [],
   "source": [
    "names=['tarun','surendar','mohith']\n",
    "age=[20,21,22]\n",
    "city=['Hyd','Blr','Nlr']\n",
    "pd. DataFrame(zip(names,age),\n",
    "    columns=['Names','Age'],\n",
    "    index=city)"
   ]
  },
  {
   "cell_type": "code",
   "execution_count": null,
   "id": "78c46b2c-b680-4b37-a64c-41e7e6c8a6be",
   "metadata": {},
   "outputs": [],
   "source": [
    "import pandas as pd\n",
    "names=['tarun','surendar','mohith']\n",
    "age=[20,21,22]\n",
    "city=['Hyd','Blr','Nlr']\n",
    "pd. DataFrame(zip(names,age),\n",
    "    columns=['Names','Age'],\n",
    "    index=city)"
   ]
  },
  {
   "cell_type": "code",
   "execution_count": null,
   "id": "f3575c6d-ea0b-4cdf-9cd1-2ae933e86cad",
   "metadata": {},
   "outputs": [],
   "source": [
    "import pandas as pd\n",
    "df1=pd.DataFrame()\n",
    "df1"
   ]
  },
  {
   "cell_type": "code",
   "execution_count": null,
   "id": "69def94d-0a26-4721-ae69-b63c80e48618",
   "metadata": {},
   "outputs": [],
   "source": [
    "l1= [1,2,3,4,5,6,7,8,9,10]\n",
    "l2=[1,4,9,16,25,36,64,81,100]\n",
    "l3=[1,8, 27,64,125, 216, 777, 888, 999, 10000]\n",
    "\n",
    "pd.DataFrame(zip(l1,l2,l3),\n",
    "  columns=['Number', 'Square','Cube'])\n",
    "\n",
    "l1=[i for i in range(1,10)]\n",
    "l2=[i**2 for i in range(1,10)]\n",
    "l3=[i**3 for i in range(1,10)]\n",
    "df1['X']=11\n",
    "df1['Y']=12\n",
    "df1['Z']=13\n",
    "df1"
   ]
  },
  {
   "cell_type": "markdown",
   "id": "0532a281-e63e-409e-aa60-85e6ec9253c4",
   "metadata": {},
   "source": [
    "- Create a new column\n",
    "\n",
    "- createing a new list salary=[1000,2000,3000]\n",
    "\n",
    "- df['S']\n",
    "\n",
    "- Creating a new column the column name is our choice\n",
    "\n",
    "- update existing coumn are same way only\n",
    "\n",
    "- Here also we need a make a list of values = number of rows\n",
    "\n",
    "- while updating the existing column\n",
    "\n",
    "- we need to provide already existed column name only\n",
    "\n",
    "- df['Z']= list of values"
   ]
  },
  {
   "cell_type": "code",
   "execution_count": null,
   "id": "d1d7b4ce-ee27-4687-8e1f-cc5990932638",
   "metadata": {},
   "outputs": [],
   "source": [
    "z=[i ** 4 for i in range(1,10)]\n",
    "df1['Z']=z\n",
    "df1"
   ]
  },
  {
   "cell_type": "code",
   "execution_count": null,
   "id": "5fb6d72e-f6d1-42ef-b6fa-28a48319f5e8",
   "metadata": {},
   "outputs": [],
   "source": [
    "df2=pd.DataFrame()\n",
    "l1=[i for i in range(1,10)]                     # use list comprehension to create the list\n",
    "l2=[i**2 for i in range(1,10)]                    # use list comprehension to create the list\n",
    "l3=[i**3 for i in range(1,10)]                 # use list comprehension to create the list\n",
    "\n",
    "df2['Number']=l1                                   # create column headings X,Y,Z\n",
    "df2['Square']=l2\n",
    "df2['Cube']=l3\n",
    "\n",
    "df2"
   ]
  },
  {
   "cell_type": "markdown",
   "id": "fa784ae9-ddb8-452e-a38b-1a7183870cb4",
   "metadata": {},
   "source": [
    "df1.drop()\n",
    "\n",
    "- Column: which column you want to drop\n",
    "\n",
    "- axis: Represents the specified value is a row or column\n",
    "\n",
    "    - axis= 0 means rows\n",
    "    \n",
    "    - axis=1 means column\n",
    "    \n",
    "    - by default axis=0\n",
    "\n",
    "- inplace: will provide overwrite the dataframe or not\n",
    "\n",
    "    - inplace= True, this indicates overwrite the dataframe\n",
    "\n",
    "    - inplace=False, this indicates the modified dataframe will be use when you provide new variable for the operation"
   ]
  },
  {
   "cell_type": "code",
   "execution_count": null,
   "id": "c42f1623-47db-410d-879e-906e86e83663",
   "metadata": {},
   "outputs": [],
   "source": [
    "df2.drop([4,8],axis=0)"
   ]
  },
  {
   "cell_type": "code",
   "execution_count": null,
   "id": "728b4db5-4f12-4d33-ae5d-99478eaeb708",
   "metadata": {},
   "outputs": [],
   "source": [
    "df2.columns[[0,1]]"
   ]
  },
  {
   "cell_type": "code",
   "execution_count": null,
   "id": "4f1efb79-4dc7-496f-93f7-74dab44a8464",
   "metadata": {},
   "outputs": [],
   "source": [
    "#how to select the column"
   ]
  },
  {
   "cell_type": "code",
   "execution_count": null,
   "id": "ab992dd6-c848-42df-8a67-e06db7a4b11a",
   "metadata": {},
   "outputs": [],
   "source": [
    "df2['Number']"
   ]
  },
  {
   "cell_type": "code",
   "execution_count": null,
   "id": "a0123ef2-17be-4621-a69a-5c8b10e42f36",
   "metadata": {},
   "outputs": [],
   "source": [
    "df2[['Number']]"
   ]
  },
  {
   "cell_type": "code",
   "execution_count": null,
   "id": "a02f3518-a484-46e2-ad5c-23a4fcd3f4b2",
   "metadata": {},
   "outputs": [],
   "source": [
    "type(df2['Number'])"
   ]
  },
  {
   "cell_type": "code",
   "execution_count": null,
   "id": "5b8c260d-79bf-4b65-869c-8dc49bfe9b37",
   "metadata": {},
   "outputs": [],
   "source": [
    "type(df2[['Number']])"
   ]
  },
  {
   "cell_type": "code",
   "execution_count": null,
   "id": "dbda2e03-0f40-4dd6-94af-a3253b8bd5b7",
   "metadata": {},
   "outputs": [],
   "source": [
    "df2[['Number','Square']]"
   ]
  },
  {
   "cell_type": "code",
   "execution_count": null,
   "id": "7e184dcf-89ec-416a-b094-c7d662130900",
   "metadata": {},
   "outputs": [],
   "source": [
    "df2['Number'].values"
   ]
  },
  {
   "cell_type": "markdown",
   "id": "26ffb28f-8daa-469f-b556-8bbd9287b697",
   "metadata": {},
   "source": [
    "- All values comes in an array\n",
    "\n",
    "- Array means it is a list of elements only represnts using numpy pacakge\n",
    "\n",
    "- Generally elements present in 4 ways\n",
    "\n",
    "    - List : Basic represntations\n",
    "    \n",
    "    - Numpy array : Array with Numpy package\n",
    "    \n",
    "    - Tensors : Tensorflow package\n",
    "    \n",
    "    - Torch : Pytorch package"
   ]
  },
  {
   "cell_type": "code",
   "execution_count": null,
   "id": "ec007496-1c36-4d62-a0e2-4448f88408fb",
   "metadata": {},
   "outputs": [],
   "source": [
    "list1=[1,2,3,4]\n",
    "list1"
   ]
  },
  {
   "cell_type": "code",
   "execution_count": null,
   "id": "35560577-3ac8-4aca-a35a-4a955c9ed51e",
   "metadata": {},
   "outputs": [],
   "source": [
    "import numpy as np\n",
    "np.array(list1)"
   ]
  },
  {
   "cell_type": "code",
   "execution_count": null,
   "id": "735ebd50-9747-4b8c-a835-22c47cd8e5ce",
   "metadata": {},
   "outputs": [],
   "source": [
    "list2=[10,20,30,40]\n",
    "list1+list2"
   ]
  },
  {
   "cell_type": "markdown",
   "id": "b9d680eb-e8c3-4d3b-ab3f-8bc7ac705e73",
   "metadata": {},
   "source": []
  },
  {
   "cell_type": "code",
   "execution_count": null,
   "id": "b0a97ec5-c7c3-4ff6-92a5-7010a44f0397",
   "metadata": {},
   "outputs": [],
   "source": [
    "l1=np.array(list1)\n",
    "l2=np.array(list2)\n",
    "l1+l2"
   ]
  },
  {
   "cell_type": "code",
   "execution_count": null,
   "id": "e6e04f18-4d80-40b3-a372-00cc0c62eb58",
   "metadata": {},
   "outputs": [],
   "source": [
    "import pandas as pd\n",
    "import numpy as np\n",
    "import matplotlib.pyplot as plt\n",
    "import seaborn as sns"
   ]
  },
  {
   "cell_type": "markdown",
   "id": "8552ca19-3c46-4eb0-96b8-600ec096a10e",
   "metadata": {},
   "source": [
    "- here we are reading visa dataset\n",
    "\n",
    "- which is csv type: comma seperated value\n",
    "\n",
    "- It is located in Datafiles folder\n",
    "\n",
    "- In order to read any dataset\n",
    "\n",
    "    - Directory\n",
    "\n",
    "    - filename\n",
    "\n",
    "    - type"
   ]
  },
  {
   "cell_type": "code",
   "execution_count": null,
   "id": "43ad004f-8eef-4a62-a904-6700a46ffd69",
   "metadata": {},
   "outputs": [],
   "source": [
    "path=r\"C:\\Ai and ML\\Data Files\\Visadataset.csv\""
   ]
  },
  {
   "cell_type": "code",
   "execution_count": null,
   "id": "b5a9fe77-9637-46a8-bf95-cba624c596b2",
   "metadata": {},
   "outputs": [],
   "source": [
    "visa_df=pd.read_csv(path)"
   ]
  },
  {
   "cell_type": "code",
   "execution_count": null,
   "id": "46389c51-b061-4d3b-a6de-6b97e4a9f53d",
   "metadata": {},
   "outputs": [],
   "source": [
    "visa_df"
   ]
  },
  {
   "cell_type": "code",
   "execution_count": null,
   "id": "2dd83acb-4747-49eb-924e-11a9a5109cbc",
   "metadata": {},
   "outputs": [],
   "source": [
    "path1=r\"C:\\Ai and ML\\Data Files\\Bank.csv\""
   ]
  },
  {
   "cell_type": "code",
   "execution_count": null,
   "id": "d8582c54-b211-4356-8f65-67619515ee1f",
   "metadata": {},
   "outputs": [],
   "source": [
    "df1=pd.read_csv(path1,sep=';')"
   ]
  },
  {
   "cell_type": "code",
   "execution_count": null,
   "id": "7a6f984e-b086-49c8-8f1e-8b4be3c85464",
   "metadata": {},
   "outputs": [],
   "source": [
    "df1"
   ]
  },
  {
   "cell_type": "code",
   "execution_count": null,
   "id": "6bac0175-119d-4d17-990d-8b890aa35678",
   "metadata": {},
   "outputs": [],
   "source": [
    "data_types=visa_df.dtypes\n",
    "dict(data_types)"
   ]
  },
  {
   "cell_type": "code",
   "execution_count": null,
   "id": "52cea993-0b6f-48aa-b896-10c8ad9cc6bf",
   "metadata": {},
   "outputs": [],
   "source": [
    "cat_list=[]\n",
    "num_list=[]\n",
    "for i,j in dict(data_types).items():\n",
    "    if j=='object':\n",
    "        cat_list.append(i)\n",
    "    else:\n",
    "        num_list.append(i)"
   ]
  },
  {
   "cell_type": "code",
   "execution_count": null,
   "id": "f107ac6d-9232-4c3c-b090-afcafb699643",
   "metadata": {},
   "outputs": [],
   "source": [
    "cat_list=[i for i,j in dict(data_types).items() if j == 'object']\n",
    "num_list=[i for i,j in dict(data_types).items() if j != 'object']\n",
    "cat_list, num_list"
   ]
  },
  {
   "cell_type": "markdown",
   "id": "f344e552-b49f-4f80-9e41-42034f6e295c",
   "metadata": {},
   "source": [
    "- take dtypes\n",
    "\n",
    "- convert into dictionary\n",
    "\n",
    "- create two lists\n",
    "\n",
    "- create two dataframes"
   ]
  },
  {
   "cell_type": "code",
   "execution_count": null,
   "id": "30f26738-7115-4364-a458-d1bc8797d313",
   "metadata": {},
   "outputs": [],
   "source": [
    "data_types1=visa_df.dtypes\n",
    "dict(data_types1)"
   ]
  },
  {
   "cell_type": "code",
   "execution_count": null,
   "id": "03caf03a-e56e-458e-925d-c64b108d6e9f",
   "metadata": {},
   "outputs": [],
   "source": [
    "len(cat_list),len(num_list)"
   ]
  },
  {
   "cell_type": "markdown",
   "id": "755e7c5f-e0ae-4100-946c-5b5a7674f9a0",
   "metadata": {},
   "source": [
    "- we can not create a dataframe using these 2 lists\n",
    "\n",
    "- because these two lists are not in equal length\n",
    "\n",
    "- If you want to create a dataframe , then we need to make 2 lists has equal length\n",
    "\n",
    "    - then you need to Question yuorself\n",
    "\n",
    "    - making equal length required or not\n",
    "\n",
    "    - if it is require how?"
   ]
  },
  {
   "cell_type": "markdown",
   "id": "59b080d6-2d01-4f3a-9496-94b562f563aa",
   "metadata": {},
   "source": [
    "**Create columns dataframe**"
   ]
  },
  {
   "cell_type": "code",
   "execution_count": null,
   "id": "443f17ce-c9ea-477d-a75e-7b7cc7abd50b",
   "metadata": {},
   "outputs": [],
   "source": [
    "num_df=pd.DataFrame(num_list,columns=['Numerical_column'])\n",
    "num_df.to_csv('Numerical_column_df.csv',index=False)"
   ]
  },
  {
   "cell_type": "code",
   "execution_count": null,
   "id": "576c43d3-75a3-4872-b7f7-6baeaf44c36a",
   "metadata": {},
   "outputs": [],
   "source": [
    "cat_df=pd.DataFrame(cat_list,columns=['Categorical_column'])\n",
    "cat_df.to_csv('Categorical_column_df.csv',index=False)"
   ]
  },
  {
   "cell_type": "code",
   "execution_count": null,
   "id": "92f74170-ffce-4819-a14b-ebdbd6052e5c",
   "metadata": {},
   "outputs": [],
   "source": [
    "visa_df.dtypes"
   ]
  },
  {
   "cell_type": "code",
   "execution_count": null,
   "id": "1c56a729-6659-46d2-9760-28734335b619",
   "metadata": {},
   "outputs": [],
   "source": [
    "def add (a, b):\n",
    "    '''his function adds two numbers.'''\n",
    "    return a + b\n",
    "print(add.__doc__)"
   ]
  },
  {
   "cell_type": "code",
   "execution_count": null,
   "id": "32c57e60-776a-4802-beee-6e845047b161",
   "metadata": {},
   "outputs": [],
   "source": [
    "import pandas as pd\n",
    "import numpy as np\n",
    "import matplotlib.pyplot as plt\n",
    "import seaborn as sns"
   ]
  },
  {
   "cell_type": "code",
   "execution_count": null,
   "id": "7167c68e-6b80-4fe0-a93f-8b7c89326472",
   "metadata": {},
   "outputs": [],
   "source": [
    "path=r\"C:\\Ai and ML\\Data Files\\Visadataset.csv\"\n",
    "visa_df=pd.read_csv(\"C:\\Ai and ML\\Data Files\\Visadataset.csv\")\n",
    "visa_df"
   ]
  },
  {
   "cell_type": "code",
   "execution_count": null,
   "id": "26f7f0e7-8221-48c2-b0ba-938bc568cbf6",
   "metadata": {},
   "outputs": [],
   "source": [
    "visa_df.isna()"
   ]
  },
  {
   "cell_type": "code",
   "execution_count": null,
   "id": "626a4ac4-a409-49ec-8c11-a828b2398435",
   "metadata": {},
   "outputs": [],
   "source": [
    "visa_df.info()"
   ]
  },
  {
   "cell_type": "markdown",
   "id": "3329df5a-b3a0-4084-ba68-159271190418",
   "metadata": {},
   "source": [
    "$take$\n",
    "\n",
    "- First arguement: indices\n",
    "\n",
    "- indices will take some values in array: in a list\n",
    "\n",
    "- It tries to extract the data\n",
    "\n",
    "- That values we provided represents columns or rows??\n",
    "\n",
    "- Axis=0 represents rows\n",
    "\n",
    "- axis=1 represents columns\n",
    "\n",
    "- by default axis mentioned as zero"
   ]
  },
  {
   "cell_type": "code",
   "execution_count": null,
   "id": "e935b9d4-c44d-4981-859f-a5bc8ae54c79",
   "metadata": {},
   "outputs": [],
   "source": [
    "#visa_df.take([100,200,300],axis=1)\n",
    "# Now this will check for 100,200,300 column\n",
    "# But originally we have only 12 (0,11)\n",
    "# Will get error\n",
    "visa_df.take([2,5,7])\n"
   ]
  },
  {
   "cell_type": "code",
   "execution_count": null,
   "id": "6a90c7e6-892e-4fd6-9b02-dda9dc7f4bda",
   "metadata": {},
   "outputs": [],
   "source": [
    "import pandas as pd\n",
    "import numpy as np\n",
    "import matplotlib.pyplot as plt\n",
    "import seaborn as sns"
   ]
  },
  {
   "cell_type": "code",
   "execution_count": null,
   "id": "0562df28-06de-4581-b6b4-61e3dc547627",
   "metadata": {},
   "outputs": [],
   "source": [
    "path=r\"C:\\Ai and ML\\Data Files\\Visadataset.csv\"\n",
    "visa_df=pd.read_csv(\"C:\\Ai and ML\\Data Files\\Visadataset.csv\")\n",
    "visa_df"
   ]
  },
  {
   "cell_type": "code",
   "execution_count": null,
   "id": "8bceb6e5-4e69-47f1-b759-c269fb25f48f",
   "metadata": {},
   "outputs": [],
   "source": [
    "cdf=visa_df['continent'].value_counts()\n",
    "keys=cdf.keys()\n",
    "values=cdf.values\n",
    "cols=['Lables', 'Count' ]\n",
    "df=pd.DataFrame(zip(keys,values),\n",
    "columns=cols)\n",
    "df.to_csv('Continent.csv', index=False)"
   ]
  },
  {
   "cell_type": "code",
   "execution_count": null,
   "id": "addd88cd-78b4-4b4e-91ea-0a588b1daf6c",
   "metadata": {},
   "outputs": [],
   "source": [
    "i='continent'"
   ]
  },
  {
   "cell_type": "code",
   "execution_count": null,
   "id": "937d8ddd-d8ad-4564-9fc4-d3d0b51d3f9e",
   "metadata": {},
   "outputs": [],
   "source": [
    "cdf=visa_df[i].value_counts()\n",
    "keys=cdf.keys()\n",
    "values=cdf.values\n",
    "cols=['Lables', 'Count' ]\n",
    "df=pd.DataFrame(zip(keys,values),\n",
    "columns=cols)\n",
    "df.to_csv('Continent.csv', index=False)"
   ]
  },
  {
   "cell_type": "code",
   "execution_count": null,
   "id": "7cfc29b3-3c08-41b4-8a37-91f265537210",
   "metadata": {},
   "outputs": [],
   "source": [
    "df"
   ]
  },
  {
   "cell_type": "code",
   "execution_count": null,
   "id": "b4243808-a40d-4a6a-94e0-04ae99b2952f",
   "metadata": {},
   "outputs": [],
   "source": [
    "visa_df.loc[:,['continent']]"
   ]
  },
  {
   "cell_type": "code",
   "execution_count": null,
   "id": "975c8b09-f71f-435e-9e2c-77b45eb72e92",
   "metadata": {},
   "outputs": [],
   "source": [
    "keys=cdf.keys()"
   ]
  },
  {
   "cell_type": "code",
   "execution_count": null,
   "id": "7dbdfe13-496b-41cc-b856-a38f4600d98f",
   "metadata": {},
   "outputs": [],
   "source": [
    "keys"
   ]
  },
  {
   "cell_type": "code",
   "execution_count": null,
   "id": "a1ebd3fd-639a-4097-aaf0-3c2a672b9b33",
   "metadata": {},
   "outputs": [],
   "source": [
    "values=cdf.values"
   ]
  },
  {
   "cell_type": "code",
   "execution_count": null,
   "id": "d9a96828-6258-4963-947e-18965e5a4439",
   "metadata": {},
   "outputs": [],
   "source": [
    "values"
   ]
  },
  {
   "cell_type": "code",
   "execution_count": null,
   "id": "0f75d2df-b5d1-476a-ab5a-efbbf1e4d5e9",
   "metadata": {},
   "outputs": [],
   "source": [
    "pd.DataFrame(zip(keys,values))"
   ]
  },
  {
   "cell_type": "code",
   "execution_count": null,
   "id": "50bb1bc2-d0ba-45be-99a4-ad2d74f467fb",
   "metadata": {},
   "outputs": [],
   "source": [
    "continents=visa_df['continent'].unique()\n",
    "\n",
    "count=[]\n",
    "for i in visa_df['continent'].unique():\n",
    "    con=visa_df['continent']==i\n",
    "    count.append(len(visa_df[con]))\n",
    "\n",
    "cols=['Continents','Number of Applicants']\n",
    "continents_df=pd.DataFrame(zip(continents,count),\n",
    "                columns=cols)\n",
    "continents_df.to_csv('continents_df.csv',index=False)"
   ]
  },
  {
   "cell_type": "code",
   "execution_count": null,
   "id": "1a2767a0-1b98-4585-ab73-a6e3b831e65e",
   "metadata": {},
   "outputs": [],
   "source": [
    "import matplotlib.pyplot as plt\n",
    "plt.bar('Continents', # Cat column  X-axis\n",
    "        'Number of Applicants', # Num column: Height Y-axis\n",
    "        data=continents_df)\n",
    "\n",
    "plt.title(\"Bar chart\")  # Title of the graph\n",
    "plt.xlabel('Continents') # X-axis name \n",
    "plt.ylabel('Number of Applicants') # Y-axis name\n",
    "plt.show() "
   ]
  },
  {
   "cell_type": "code",
   "execution_count": null,
   "id": "89d5209a-d173-4d6a-adad-cf9db632294e",
   "metadata": {},
   "outputs": [],
   "source": [
    "continents_df"
   ]
  },
  {
   "cell_type": "code",
   "execution_count": null,
   "id": "5cec898b-8cbb-470e-9636-25a6950f8d3a",
   "metadata": {},
   "outputs": [],
   "source": [
    "import pandas as pd\n",
    "import numpy as np\n",
    "import matplotlib.pyplot as plt\n",
    "import seaborn as sns"
   ]
  },
  {
   "cell_type": "code",
   "execution_count": null,
   "id": "6a2ef223-7e84-45cd-8f29-89a5fb051a19",
   "metadata": {},
   "outputs": [],
   "source": [
    "plt.figure(figsize=(8,5))\n",
    "order_continents=visa_df['continents'].value_counts().keys()\n",
    "sns.countplot(data=visa_df,\n",
    "              X='continents',\n",
    "              order=order_continents)\n",
    "plt.title('Bar chart')\n",
    "plt.show()"
   ]
  },
  {
   "cell_type": "code",
   "execution_count": null,
   "id": "9f224fed-85fd-403e-9c48-ed395ce5ccf4",
   "metadata": {},
   "outputs": [],
   "source": [
    "import os\n",
    "os.getcwd()"
   ]
  },
  {
   "cell_type": "code",
   "execution_count": null,
   "id": "e6787be1-754f-4e58-b547-fbdef597c66d",
   "metadata": {},
   "outputs": [],
   "source": [
    "os.makedirs('C:\\Ai and ML\\os')"
   ]
  },
  {
   "cell_type": "code",
   "execution_count": null,
   "id": "68269484-eeec-4f68-b77b-e00133caddc6",
   "metadata": {},
   "outputs": [],
   "source": [
    "root_directory=os.getcwd()\n",
    "root_directory\n",
    "new_folder='os'\n",
    "new_dir=os.path.join(root_directory,new_folder)\n",
    "new_dir\n",
    "#os.makedirs(new_dir)"
   ]
  },
  {
   "cell_type": "code",
   "execution_count": null,
   "id": "f60c614d-9b65-452a-a06f-d0c4931df2be",
   "metadata": {},
   "outputs": [],
   "source": [
    "import pandas as pd\n",
    "import matplotlib.pyplot as plt\n",
    "import seaborn as sns\n",
    "import numpy as np\n",
    "import os"
   ]
  },
  {
   "cell_type": "code",
   "execution_count": null,
   "id": "e911a801-d0ef-4be4-a3ec-453dfe158d73",
   "metadata": {},
   "outputs": [],
   "source": [
    "#Sub Plots"
   ]
  },
  {
   "cell_type": "code",
   "execution_count": null,
   "id": "45a9f2f7-e46e-4599-ab5a-14f96f96dfe3",
   "metadata": {},
   "outputs": [],
   "source": []
  },
  {
   "cell_type": "code",
   "execution_count": null,
   "id": "9960ee1d-8059-429b-b6ae-77ce7e1e042f",
   "metadata": {},
   "outputs": [],
   "source": []
  }
 ],
 "metadata": {
  "kernelspec": {
   "display_name": "Python 3 (ipykernel)",
   "language": "python",
   "name": "python3"
  },
  "language_info": {
   "codemirror_mode": {
    "name": "ipython",
    "version": 3
   },
   "file_extension": ".py",
   "mimetype": "text/x-python",
   "name": "python",
   "nbconvert_exporter": "python",
   "pygments_lexer": "ipython3",
   "version": "3.11.7"
  }
 },
 "nbformat": 4,
 "nbformat_minor": 5
}
